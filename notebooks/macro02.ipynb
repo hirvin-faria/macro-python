{
  "cells": [
    {
      "cell_type": "markdown",
      "metadata": {
        "id": "Owi3z_vnWtGm"
      },
      "source": [
        "# Bibliotecas"
      ]
    },
    {
      "cell_type": "code",
      "execution_count": 1,
      "metadata": {
        "colab": {
          "base_uri": "https://localhost:8080/"
        },
        "id": "sidyq73uWaut",
        "outputId": "54becbc8-34e1-4464-b93b-435f0146e0dd"
      },
      "outputs": [
        {
          "data": {
            "text/plain": [
              "2"
            ]
          },
          "execution_count": 1,
          "metadata": {},
          "output_type": "execute_result"
        }
      ],
      "source": [
        "# Comando básico para importar bibliotecas: import ...\n",
        "# Por exemplo:\n",
        "import sys\n",
        "import math\n",
        "\n",
        "# Usando função da biblioteca\n",
        "math.ceil(1.6) # função de arredondar \"pra cima\""
      ]
    },
    {
      "cell_type": "code",
      "execution_count": 2,
      "metadata": {
        "colab": {
          "base_uri": "https://localhost:8080/"
        },
        "id": "KX-K9DgnauKq",
        "outputId": "8993b4dd-6b32-4091-9e4a-477c44bdc21f"
      },
      "outputs": [
        {
          "data": {
            "text/plain": [
              "time.struct_time(tm_year=2023, tm_mon=11, tm_mday=29, tm_hour=23, tm_min=52, tm_sec=2, tm_wday=2, tm_yday=333, tm_isdst=0)"
            ]
          },
          "execution_count": 2,
          "metadata": {},
          "output_type": "execute_result"
        }
      ],
      "source": [
        "# Há outras opções também:\n",
        "\n",
        "# 1) Importar uma função específica: from ... import ___\n",
        "from time import localtime\n",
        "\n",
        "# Usando função da biblioteca\n",
        "localtime() # função que reporta o horário local"
      ]
    },
    {
      "cell_type": "code",
      "execution_count": 4,
      "metadata": {
        "colab": {
          "base_uri": "https://localhost:8080/"
        },
        "id": "oHf1AZdRYsQW",
        "outputId": "e8bf2e8f-789d-4ba5-9bcf-01a6f5e9080d"
      },
      "outputs": [
        {
          "data": {
            "text/plain": [
              "30"
            ]
          },
          "execution_count": 4,
          "metadata": {},
          "output_type": "execute_result"
        }
      ],
      "source": [
        "# 2) Importar biblioteca e \"renomeá-la\": import ... as ___\n",
        "import random as rnd\n",
        "rnd.randint(1, 100) # função que retorna valor aleatório no intervalo entre os valores"
      ]
    },
    {
      "cell_type": "code",
      "execution_count": 3,
      "metadata": {
        "colab": {
          "base_uri": "https://localhost:8080/"
        },
        "id": "nk2fY0nMdeuC",
        "outputId": "96c2fac4-c86c-4fde-f335-2aa833aa93ff"
      },
      "outputs": [
        {
          "name": "stdout",
          "output_type": "stream",
          "text": [
            "3\n",
            "linux\n",
            "/home/codespace/.python/current/bin/python3\n"
          ]
        }
      ],
      "source": [
        "# 3) Importando várias blibliotecas de uma vez: import ..., ..., ...\n",
        "import statistics, sys\n",
        "\n",
        "print(statistics.mean([1, 2, 3, 4, 5]))\n",
        "print(sys.platform)\n",
        "print(sys.executable)"
      ]
    },
    {
      "cell_type": "code",
      "execution_count": 4,
      "metadata": {
        "colab": {
          "base_uri": "https://localhost:8080/"
        },
        "id": "isKurgJGe2r_",
        "outputId": "48cbde80-e751-44f4-d909-7fab08b3768d"
      },
      "outputs": [
        {
          "data": {
            "text/plain": [
              "3"
            ]
          },
          "execution_count": 4,
          "metadata": {},
          "output_type": "execute_result"
        }
      ],
      "source": [
        "# 4) Importar função específica de uma biblioteca e renomear a função: from ... import ___ as ,,,\n",
        "from statistics import median as med\n",
        "\n",
        "# Usando a função renomeada\n",
        "med([1, 2, 3, 4, 5])"
      ]
    },
    {
      "cell_type": "code",
      "execution_count": 5,
      "metadata": {
        "colab": {
          "base_uri": "https://localhost:8080/"
        },
        "id": "7XxGIYGLW4Jn",
        "outputId": "390a10c8-fa56-4f87-f33c-5762771214d1"
      },
      "outputs": [
        {
          "name": "stdout",
          "output_type": "stream",
          "text": [
            "Requirement already satisfied: pandas in /usr/local/python/3.10.13/lib/python3.10/site-packages (1.5.3)\n",
            "Requirement already satisfied: python-dateutil>=2.8.1 in /home/codespace/.local/lib/python3.10/site-packages (from pandas) (2.8.2)\n",
            "Requirement already satisfied: pytz>=2020.1 in /home/codespace/.local/lib/python3.10/site-packages (from pandas) (2023.3.post1)\n",
            "Requirement already satisfied: numpy>=1.21.0 in /usr/local/python/3.10.13/lib/python3.10/site-packages (from pandas) (1.24.2)\n",
            "Requirement already satisfied: six>=1.5 in /home/codespace/.local/lib/python3.10/site-packages (from python-dateutil>=2.8.1->pandas) (1.16.0)\n"
          ]
        },
        {
          "data": {
            "text/plain": [
              "a    1\n",
              "b    2\n",
              "c    3\n",
              "d    4\n",
              "e    5\n",
              "dtype: int64"
            ]
          },
          "execution_count": 5,
          "metadata": {},
          "output_type": "execute_result"
        }
      ],
      "source": [
        "# Comando para instalar bibliotecas: !{sys.executable} -m pip install nome_da_biblioteca\n",
        "# Veja lista de bibliotecas em: https://pypi.org/\n",
        "\n",
        "# Por exemplo:\n",
        "!{sys.executable} -m pip install pandas\n",
        "\n",
        "import pandas as pd\n",
        "dados = pd.Series(  # gerar um objeto de série de valores\n",
        "    data = [1, 2, 3, 4, 5], \n",
        "    index = [\"a\", \"b\", \"c\", \"d\", \"e\"]\n",
        "    )\n",
        "dados"
      ]
    },
    {
      "cell_type": "markdown",
      "metadata": {
        "id": "vJEyu46cjdYe"
      },
      "source": []
    },
    {
      "cell_type": "markdown",
      "metadata": {
        "id": "HTOAY6hNxHGc"
      },
      "source": [
        "# Diretório de trabalho"
      ]
    },
    {
      "cell_type": "code",
      "execution_count": 6,
      "metadata": {
        "colab": {
          "base_uri": "https://localhost:8080/",
          "height": 36
        },
        "id": "As9-3ZyUxJEt",
        "outputId": "16d65ca8-4161-4600-d934-ae97c370f3c3"
      },
      "outputs": [
        {
          "data": {
            "text/plain": [
              "'/workspaces/codespaces-jupyter/notebooks'"
            ]
          },
          "execution_count": 6,
          "metadata": {},
          "output_type": "execute_result"
        }
      ],
      "source": [
        "# Em qual pasta do computador o Python está \"operante\"?\n",
        "import os\n",
        "os.getcwd()"
      ]
    },
    {
      "cell_type": "code",
      "execution_count": 10,
      "metadata": {},
      "outputs": [
        {
          "name": "stdout",
          "output_type": "stream",
          "text": [
            "/workspaces/codespaces-jupyter/notebooks\n"
          ]
        }
      ],
      "source": [
        "# Printa o caminho do diretório de trabalho atual.\n",
        "print(os.getcwd())"
      ]
    },
    {
      "cell_type": "code",
      "execution_count": 9,
      "metadata": {
        "colab": {
          "base_uri": "https://localhost:8080/"
        },
        "id": "JE62eQEhxTYp",
        "outputId": "b328ae28-4db9-48ca-acfe-cacb41e369e5"
      },
      "outputs": [
        {
          "name": "stdout",
          "output_type": "stream",
          "text": [
            "/content\n",
            "/content/temporaria\n",
            "/content\n"
          ]
        }
      ],
      "source": [
        "# Cria uma pasta com nome \"temporaria\" dentro da pasta existente \"content\"\n",
        "os.mkdir(\"/content/temporaria\") # no Windows localmente use: \"./content/temporaria\"\n",
        "\n",
        "# Muda o diretório para a pasta criada\n",
        "os.chdir(\"/content/temporaria\") # no Windows localmente use: \"./content/temporaria\"\n",
        "print(os.getcwd())\n",
        "\n",
        "# Retorna ao diretório original\n",
        "os.chdir(\"../\") # no Windows localmente use: \"../../\"\n",
        "print(os.getcwd())"
      ]
    },
    {
      "cell_type": "markdown",
      "metadata": {
        "id": "SVOc8O30yfoO"
      },
      "source": [
        "# Documentações"
      ]
    },
    {
      "cell_type": "code",
      "execution_count": 7,
      "metadata": {
        "colab": {
          "base_uri": "https://localhost:8080/"
        },
        "id": "LLyWlgY1yiUp",
        "outputId": "0b018338-adab-4499-f3e4-1bde919eb305"
      },
      "outputs": [
        {
          "name": "stdout",
          "output_type": "stream",
          "text": [
            "Help on built-in function chdir in module posix:\n",
            "\n",
            "chdir(path)\n",
            "    Change the current working directory to the specified path.\n",
            "    \n",
            "    path may always be specified as a string.\n",
            "    On some platforms, path may also be specified as an open file descriptor.\n",
            "      If this functionality is unavailable, using it raises an exception.\n",
            "\n"
          ]
        }
      ],
      "source": [
        "# Use a função help() para imprimir a documentação de lago diretamente\n",
        "help(os.chdir)"
      ]
    },
    {
      "cell_type": "code",
      "execution_count": 8,
      "metadata": {
        "id": "ZIQ7R54h08HH"
      },
      "outputs": [
        {
          "name": "stdout",
          "output_type": "stream",
          "text": [
            "\u001b[0;31mSignature:\u001b[0m \u001b[0mos\u001b[0m\u001b[0;34m.\u001b[0m\u001b[0mchdir\u001b[0m\u001b[0;34m(\u001b[0m\u001b[0mpath\u001b[0m\u001b[0;34m)\u001b[0m\u001b[0;34m\u001b[0m\u001b[0;34m\u001b[0m\u001b[0m\n",
            "\u001b[0;31mDocstring:\u001b[0m\n",
            "Change the current working directory to the specified path.\n",
            "\n",
            "path may always be specified as a string.\n",
            "On some platforms, path may also be specified as an open file descriptor.\n",
            "  If this functionality is unavailable, using it raises an exception.\n",
            "\u001b[0;31mType:\u001b[0m      builtin_function_or_method"
          ]
        }
      ],
      "source": [
        "# Ou use um ponto de interrogação ao final\n",
        "os.chdir?"
      ]
    },
    {
      "cell_type": "code",
      "execution_count": null,
      "metadata": {
        "id": "hOmlwrW312Eg"
      },
      "outputs": [],
      "source": [
        "# Ao digitar um função e abrir parênteses, se necessário, use Ctrl+Shift+Space bar\n",
        "# para listar uma documentação em uma janela pop-up\n",
        "pd.Series("
      ]
    },
    {
      "cell_type": "markdown",
      "metadata": {
        "id": "-buEqPIc6MWu"
      },
      "source": [
        "# Dados\n",
        "\n",
        "Agora vamos importar o arquivo CSV de dados com a biblioteca *pandas* salvando o resultando em um objeto com nome \"dados\" (no Python o operador \"=\" significa \"atribuição\", ou seja, atribuir um resultado/valor a um objeto, salvando-o)"
      ]
    },
    {
      "cell_type": "code",
      "execution_count": 14,
      "metadata": {
        "colab": {
          "base_uri": "https://localhost:8080/",
          "height": 424
        },
        "id": "tu4fQ9ts67XB",
        "outputId": "465b4193-08cc-4de6-d453-bb8e34b2440d"
      },
      "outputs": [
        {
          "data": {
            "text/html": [
              "<div>\n",
              "<style scoped>\n",
              "    .dataframe tbody tr th:only-of-type {\n",
              "        vertical-align: middle;\n",
              "    }\n",
              "\n",
              "    .dataframe tbody tr th {\n",
              "        vertical-align: top;\n",
              "    }\n",
              "\n",
              "    .dataframe thead th {\n",
              "        text-align: right;\n",
              "    }\n",
              "</style>\n",
              "<table border=\"1\" class=\"dataframe\">\n",
              "  <thead>\n",
              "    <tr style=\"text-align: right;\">\n",
              "      <th></th>\n",
              "      <th>data</th>\n",
              "      <th>salario_minimo</th>\n",
              "      <th>inpc</th>\n",
              "    </tr>\n",
              "  </thead>\n",
              "  <tbody>\n",
              "    <tr>\n",
              "      <th>0</th>\n",
              "      <td>2000-01-01</td>\n",
              "      <td>136</td>\n",
              "      <td>1598.24</td>\n",
              "    </tr>\n",
              "    <tr>\n",
              "      <th>1</th>\n",
              "      <td>2000-02-01</td>\n",
              "      <td>136</td>\n",
              "      <td>1599.04</td>\n",
              "    </tr>\n",
              "    <tr>\n",
              "      <th>2</th>\n",
              "      <td>2000-03-01</td>\n",
              "      <td>136</td>\n",
              "      <td>1601.12</td>\n",
              "    </tr>\n",
              "    <tr>\n",
              "      <th>3</th>\n",
              "      <td>2000-04-01</td>\n",
              "      <td>151</td>\n",
              "      <td>1602.56</td>\n",
              "    </tr>\n",
              "    <tr>\n",
              "      <th>4</th>\n",
              "      <td>2000-05-01</td>\n",
              "      <td>151</td>\n",
              "      <td>1601.76</td>\n",
              "    </tr>\n",
              "    <tr>\n",
              "      <th>...</th>\n",
              "      <td>...</td>\n",
              "      <td>...</td>\n",
              "      <td>...</td>\n",
              "    </tr>\n",
              "    <tr>\n",
              "      <th>259</th>\n",
              "      <td>2021-08-01</td>\n",
              "      <td>1100</td>\n",
              "      <td>6087.84</td>\n",
              "    </tr>\n",
              "    <tr>\n",
              "      <th>260</th>\n",
              "      <td>2021-09-01</td>\n",
              "      <td>1100</td>\n",
              "      <td>6160.89</td>\n",
              "    </tr>\n",
              "    <tr>\n",
              "      <th>261</th>\n",
              "      <td>2021-10-01</td>\n",
              "      <td>1100</td>\n",
              "      <td>6232.36</td>\n",
              "    </tr>\n",
              "    <tr>\n",
              "      <th>262</th>\n",
              "      <td>2021-11-01</td>\n",
              "      <td>1100</td>\n",
              "      <td>6284.71</td>\n",
              "    </tr>\n",
              "    <tr>\n",
              "      <th>263</th>\n",
              "      <td>2021-12-01</td>\n",
              "      <td>1100</td>\n",
              "      <td>6330.59</td>\n",
              "    </tr>\n",
              "  </tbody>\n",
              "</table>\n",
              "<p>264 rows × 3 columns</p>\n",
              "</div>"
            ],
            "text/plain": [
              "           data  salario_minimo     inpc\n",
              "0    2000-01-01             136  1598.24\n",
              "1    2000-02-01             136  1599.04\n",
              "2    2000-03-01             136  1601.12\n",
              "3    2000-04-01             151  1602.56\n",
              "4    2000-05-01             151  1601.76\n",
              "..          ...             ...      ...\n",
              "259  2021-08-01            1100  6087.84\n",
              "260  2021-09-01            1100  6160.89\n",
              "261  2021-10-01            1100  6232.36\n",
              "262  2021-11-01            1100  6284.71\n",
              "263  2021-12-01            1100  6330.59\n",
              "\n",
              "[264 rows x 3 columns]"
            ]
          },
          "execution_count": 14,
          "metadata": {},
          "output_type": "execute_result"
        }
      ],
      "source": [
        "# Opção 1: importar de uma pasta no computador\n",
        "# Importante: a localização do CSV deve ser indicada a partir do diretório atual\n",
        "dados = pd.read_csv(filepath_or_buffer = \"../data/dados.csv\")  # esse é o caminho p/ o arquivo (Windows: \"./content/dados/dados.csv\")\n",
        "dados # \"ver\" os dados importados"
      ]
    },
    {
      "cell_type": "code",
      "execution_count": 13,
      "metadata": {
        "colab": {
          "base_uri": "https://localhost:8080/",
          "height": 424
        },
        "id": "7UmkGsUy7Uz2",
        "outputId": "c06d76aa-f733-442e-b18e-a18f08560797"
      },
      "outputs": [
        {
          "data": {
            "text/html": [
              "\n",
              "  <div id=\"df-efbd8293-5f87-44ac-a00b-d26bfb500dc2\">\n",
              "    <div class=\"colab-df-container\">\n",
              "      <div>\n",
              "<style scoped>\n",
              "    .dataframe tbody tr th:only-of-type {\n",
              "        vertical-align: middle;\n",
              "    }\n",
              "\n",
              "    .dataframe tbody tr th {\n",
              "        vertical-align: top;\n",
              "    }\n",
              "\n",
              "    .dataframe thead th {\n",
              "        text-align: right;\n",
              "    }\n",
              "</style>\n",
              "<table border=\"1\" class=\"dataframe\">\n",
              "  <thead>\n",
              "    <tr style=\"text-align: right;\">\n",
              "      <th></th>\n",
              "      <th>data</th>\n",
              "      <th>salario_minimo</th>\n",
              "      <th>inpc</th>\n",
              "    </tr>\n",
              "  </thead>\n",
              "  <tbody>\n",
              "    <tr>\n",
              "      <th>0</th>\n",
              "      <td>2000-01-01</td>\n",
              "      <td>136</td>\n",
              "      <td>1598.24</td>\n",
              "    </tr>\n",
              "    <tr>\n",
              "      <th>1</th>\n",
              "      <td>2000-02-01</td>\n",
              "      <td>136</td>\n",
              "      <td>1599.04</td>\n",
              "    </tr>\n",
              "    <tr>\n",
              "      <th>2</th>\n",
              "      <td>2000-03-01</td>\n",
              "      <td>136</td>\n",
              "      <td>1601.12</td>\n",
              "    </tr>\n",
              "    <tr>\n",
              "      <th>3</th>\n",
              "      <td>2000-04-01</td>\n",
              "      <td>151</td>\n",
              "      <td>1602.56</td>\n",
              "    </tr>\n",
              "    <tr>\n",
              "      <th>4</th>\n",
              "      <td>2000-05-01</td>\n",
              "      <td>151</td>\n",
              "      <td>1601.76</td>\n",
              "    </tr>\n",
              "    <tr>\n",
              "      <th>...</th>\n",
              "      <td>...</td>\n",
              "      <td>...</td>\n",
              "      <td>...</td>\n",
              "    </tr>\n",
              "    <tr>\n",
              "      <th>259</th>\n",
              "      <td>2021-08-01</td>\n",
              "      <td>1100</td>\n",
              "      <td>6087.84</td>\n",
              "    </tr>\n",
              "    <tr>\n",
              "      <th>260</th>\n",
              "      <td>2021-09-01</td>\n",
              "      <td>1100</td>\n",
              "      <td>6160.89</td>\n",
              "    </tr>\n",
              "    <tr>\n",
              "      <th>261</th>\n",
              "      <td>2021-10-01</td>\n",
              "      <td>1100</td>\n",
              "      <td>6232.36</td>\n",
              "    </tr>\n",
              "    <tr>\n",
              "      <th>262</th>\n",
              "      <td>2021-11-01</td>\n",
              "      <td>1100</td>\n",
              "      <td>6284.71</td>\n",
              "    </tr>\n",
              "    <tr>\n",
              "      <th>263</th>\n",
              "      <td>2021-12-01</td>\n",
              "      <td>1100</td>\n",
              "      <td>6330.59</td>\n",
              "    </tr>\n",
              "  </tbody>\n",
              "</table>\n",
              "<p>264 rows × 3 columns</p>\n",
              "</div>\n",
              "      <button class=\"colab-df-convert\" onclick=\"convertToInteractive('df-efbd8293-5f87-44ac-a00b-d26bfb500dc2')\"\n",
              "              title=\"Convert this dataframe to an interactive table.\"\n",
              "              style=\"display:none;\">\n",
              "        \n",
              "  <svg xmlns=\"http://www.w3.org/2000/svg\" height=\"24px\"viewBox=\"0 0 24 24\"\n",
              "       width=\"24px\">\n",
              "    <path d=\"M0 0h24v24H0V0z\" fill=\"none\"/>\n",
              "    <path d=\"M18.56 5.44l.94 2.06.94-2.06 2.06-.94-2.06-.94-.94-2.06-.94 2.06-2.06.94zm-11 1L8.5 8.5l.94-2.06 2.06-.94-2.06-.94L8.5 2.5l-.94 2.06-2.06.94zm10 10l.94 2.06.94-2.06 2.06-.94-2.06-.94-.94-2.06-.94 2.06-2.06.94z\"/><path d=\"M17.41 7.96l-1.37-1.37c-.4-.4-.92-.59-1.43-.59-.52 0-1.04.2-1.43.59L10.3 9.45l-7.72 7.72c-.78.78-.78 2.05 0 2.83L4 21.41c.39.39.9.59 1.41.59.51 0 1.02-.2 1.41-.59l7.78-7.78 2.81-2.81c.8-.78.8-2.07 0-2.86zM5.41 20L4 18.59l7.72-7.72 1.47 1.35L5.41 20z\"/>\n",
              "  </svg>\n",
              "      </button>\n",
              "      \n",
              "  <style>\n",
              "    .colab-df-container {\n",
              "      display:flex;\n",
              "      flex-wrap:wrap;\n",
              "      gap: 12px;\n",
              "    }\n",
              "\n",
              "    .colab-df-convert {\n",
              "      background-color: #E8F0FE;\n",
              "      border: none;\n",
              "      border-radius: 50%;\n",
              "      cursor: pointer;\n",
              "      display: none;\n",
              "      fill: #1967D2;\n",
              "      height: 32px;\n",
              "      padding: 0 0 0 0;\n",
              "      width: 32px;\n",
              "    }\n",
              "\n",
              "    .colab-df-convert:hover {\n",
              "      background-color: #E2EBFA;\n",
              "      box-shadow: 0px 1px 2px rgba(60, 64, 67, 0.3), 0px 1px 3px 1px rgba(60, 64, 67, 0.15);\n",
              "      fill: #174EA6;\n",
              "    }\n",
              "\n",
              "    [theme=dark] .colab-df-convert {\n",
              "      background-color: #3B4455;\n",
              "      fill: #D2E3FC;\n",
              "    }\n",
              "\n",
              "    [theme=dark] .colab-df-convert:hover {\n",
              "      background-color: #434B5C;\n",
              "      box-shadow: 0px 1px 3px 1px rgba(0, 0, 0, 0.15);\n",
              "      filter: drop-shadow(0px 1px 2px rgba(0, 0, 0, 0.3));\n",
              "      fill: #FFFFFF;\n",
              "    }\n",
              "  </style>\n",
              "\n",
              "      <script>\n",
              "        const buttonEl =\n",
              "          document.querySelector('#df-efbd8293-5f87-44ac-a00b-d26bfb500dc2 button.colab-df-convert');\n",
              "        buttonEl.style.display =\n",
              "          google.colab.kernel.accessAllowed ? 'block' : 'none';\n",
              "\n",
              "        async function convertToInteractive(key) {\n",
              "          const element = document.querySelector('#df-efbd8293-5f87-44ac-a00b-d26bfb500dc2');\n",
              "          const dataTable =\n",
              "            await google.colab.kernel.invokeFunction('convertToInteractive',\n",
              "                                                     [key], {});\n",
              "          if (!dataTable) return;\n",
              "\n",
              "          const docLinkHtml = 'Like what you see? Visit the ' +\n",
              "            '<a target=\"_blank\" href=https://colab.research.google.com/notebooks/data_table.ipynb>data table notebook</a>'\n",
              "            + ' to learn more about interactive tables.';\n",
              "          element.innerHTML = '';\n",
              "          dataTable['output_type'] = 'display_data';\n",
              "          await google.colab.output.renderOutput(dataTable, element);\n",
              "          const docLink = document.createElement('div');\n",
              "          docLink.innerHTML = docLinkHtml;\n",
              "          element.appendChild(docLink);\n",
              "        }\n",
              "      </script>\n",
              "    </div>\n",
              "  </div>\n",
              "  "
            ],
            "text/plain": [
              "           data  salario_minimo     inpc\n",
              "0    2000-01-01             136  1598.24\n",
              "1    2000-02-01             136  1599.04\n",
              "2    2000-03-01             136  1601.12\n",
              "3    2000-04-01             151  1602.56\n",
              "4    2000-05-01             151  1601.76\n",
              "..          ...             ...      ...\n",
              "259  2021-08-01            1100  6087.84\n",
              "260  2021-09-01            1100  6160.89\n",
              "261  2021-10-01            1100  6232.36\n",
              "262  2021-11-01            1100  6284.71\n",
              "263  2021-12-01            1100  6330.59\n",
              "\n",
              "[264 rows x 3 columns]"
            ]
          },
          "execution_count": 13,
          "metadata": {},
          "output_type": "execute_result"
        }
      ],
      "source": [
        "# Opção 2: importar do site da Análise Macro\n",
        "dados = pd.read_csv(filepath_or_buffer = \"https://analisemacro.com.br/download/38675/\")  # URL\n",
        "dados # outra forma de ver os dados é clicando em {x} na barra lateral esquerda (Google Colab) para abrir o painel de \"Variables\""
      ]
    },
    {
      "cell_type": "markdown",
      "metadata": {
        "id": "rv-o1l6-AiQw"
      },
      "source": [
        "# Tipos de dados"
      ]
    },
    {
      "cell_type": "code",
      "execution_count": 14,
      "metadata": {
        "colab": {
          "base_uri": "https://localhost:8080/"
        },
        "id": "Pw8OeOzB9sHZ",
        "outputId": "541c12cb-5607-4bd1-ca27-00b20b333968"
      },
      "outputs": [
        {
          "data": {
            "text/plain": [
              "pandas.core.frame.DataFrame"
            ]
          },
          "execution_count": 14,
          "metadata": {},
          "output_type": "execute_result"
        }
      ],
      "source": [
        "# Obter o tipo do objeto\n",
        "type(dados)"
      ]
    },
    {
      "cell_type": "code",
      "execution_count": 15,
      "metadata": {
        "colab": {
          "base_uri": "https://localhost:8080/"
        },
        "id": "uxmzvfcW-k6w",
        "outputId": "faa5d7a3-e8b4-4dd2-e2aa-8ae6899f7351"
      },
      "outputs": [
        {
          "data": {
            "text/plain": [
              "{'_attrs': {},\n",
              " '_flags': <Flags(allows_duplicate_labels=True)>,\n",
              " '_is_copy': None,\n",
              " '_item_cache': {},\n",
              " '_mgr': BlockManager\n",
              " Items: Index(['data', 'salario_minimo', 'inpc'], dtype='object')\n",
              " Axis 1: RangeIndex(start=0, stop=264, step=1)\n",
              " NumericBlock: slice(1, 2, 1), 1 x 264, dtype: int64\n",
              " NumericBlock: slice(2, 3, 1), 1 x 264, dtype: float64\n",
              " ObjectBlock: slice(0, 1, 1), 1 x 264, dtype: object}"
            ]
          },
          "execution_count": 15,
          "metadata": {},
          "output_type": "execute_result"
        }
      ],
      "source": [
        "# Obter os atributos do objeto\n",
        "vars(dados)"
      ]
    },
    {
      "cell_type": "markdown",
      "metadata": {
        "id": "zQpbAMUXAlpr"
      },
      "source": [
        "# Deflacionando"
      ]
    },
    {
      "cell_type": "code",
      "execution_count": 16,
      "metadata": {
        "colab": {
          "base_uri": "https://localhost:8080/",
          "height": 424
        },
        "id": "oz6_cHUeBKqy",
        "outputId": "fdcb9a98-f792-4ad5-ebca-a37265fd9ac5"
      },
      "outputs": [
        {
          "data": {
            "text/html": [
              "\n",
              "  <div id=\"df-cf773d42-fad9-4ba0-99bc-e84e844613e5\">\n",
              "    <div class=\"colab-df-container\">\n",
              "      <div>\n",
              "<style scoped>\n",
              "    .dataframe tbody tr th:only-of-type {\n",
              "        vertical-align: middle;\n",
              "    }\n",
              "\n",
              "    .dataframe tbody tr th {\n",
              "        vertical-align: top;\n",
              "    }\n",
              "\n",
              "    .dataframe thead th {\n",
              "        text-align: right;\n",
              "    }\n",
              "</style>\n",
              "<table border=\"1\" class=\"dataframe\">\n",
              "  <thead>\n",
              "    <tr style=\"text-align: right;\">\n",
              "      <th></th>\n",
              "      <th>data</th>\n",
              "      <th>salario_minimo</th>\n",
              "      <th>inpc</th>\n",
              "      <th>real</th>\n",
              "    </tr>\n",
              "  </thead>\n",
              "  <tbody>\n",
              "    <tr>\n",
              "      <th>0</th>\n",
              "      <td>2000-01-01</td>\n",
              "      <td>136</td>\n",
              "      <td>1598.24</td>\n",
              "      <td>538.692712</td>\n",
              "    </tr>\n",
              "    <tr>\n",
              "      <th>1</th>\n",
              "      <td>2000-02-01</td>\n",
              "      <td>136</td>\n",
              "      <td>1599.04</td>\n",
              "      <td>538.423204</td>\n",
              "    </tr>\n",
              "    <tr>\n",
              "      <th>2</th>\n",
              "      <td>2000-03-01</td>\n",
              "      <td>136</td>\n",
              "      <td>1601.12</td>\n",
              "      <td>537.723743</td>\n",
              "    </tr>\n",
              "    <tr>\n",
              "      <th>3</th>\n",
              "      <td>2000-04-01</td>\n",
              "      <td>151</td>\n",
              "      <td>1602.56</td>\n",
              "      <td>596.495039</td>\n",
              "    </tr>\n",
              "    <tr>\n",
              "      <th>4</th>\n",
              "      <td>2000-05-01</td>\n",
              "      <td>151</td>\n",
              "      <td>1601.76</td>\n",
              "      <td>596.792959</td>\n",
              "    </tr>\n",
              "    <tr>\n",
              "      <th>...</th>\n",
              "      <td>...</td>\n",
              "      <td>...</td>\n",
              "      <td>...</td>\n",
              "      <td>...</td>\n",
              "    </tr>\n",
              "    <tr>\n",
              "      <th>259</th>\n",
              "      <td>2021-08-01</td>\n",
              "      <td>1100</td>\n",
              "      <td>6087.84</td>\n",
              "      <td>1143.862027</td>\n",
              "    </tr>\n",
              "    <tr>\n",
              "      <th>260</th>\n",
              "      <td>2021-09-01</td>\n",
              "      <td>1100</td>\n",
              "      <td>6160.89</td>\n",
              "      <td>1130.299194</td>\n",
              "    </tr>\n",
              "    <tr>\n",
              "      <th>261</th>\n",
              "      <td>2021-10-01</td>\n",
              "      <td>1100</td>\n",
              "      <td>6232.36</td>\n",
              "      <td>1117.337413</td>\n",
              "    </tr>\n",
              "    <tr>\n",
              "      <th>262</th>\n",
              "      <td>2021-11-01</td>\n",
              "      <td>1100</td>\n",
              "      <td>6284.71</td>\n",
              "      <td>1108.030283</td>\n",
              "    </tr>\n",
              "    <tr>\n",
              "      <th>263</th>\n",
              "      <td>2021-12-01</td>\n",
              "      <td>1100</td>\n",
              "      <td>6330.59</td>\n",
              "      <td>1100.000000</td>\n",
              "    </tr>\n",
              "  </tbody>\n",
              "</table>\n",
              "<p>264 rows × 4 columns</p>\n",
              "</div>\n",
              "      <button class=\"colab-df-convert\" onclick=\"convertToInteractive('df-cf773d42-fad9-4ba0-99bc-e84e844613e5')\"\n",
              "              title=\"Convert this dataframe to an interactive table.\"\n",
              "              style=\"display:none;\">\n",
              "        \n",
              "  <svg xmlns=\"http://www.w3.org/2000/svg\" height=\"24px\"viewBox=\"0 0 24 24\"\n",
              "       width=\"24px\">\n",
              "    <path d=\"M0 0h24v24H0V0z\" fill=\"none\"/>\n",
              "    <path d=\"M18.56 5.44l.94 2.06.94-2.06 2.06-.94-2.06-.94-.94-2.06-.94 2.06-2.06.94zm-11 1L8.5 8.5l.94-2.06 2.06-.94-2.06-.94L8.5 2.5l-.94 2.06-2.06.94zm10 10l.94 2.06.94-2.06 2.06-.94-2.06-.94-.94-2.06-.94 2.06-2.06.94z\"/><path d=\"M17.41 7.96l-1.37-1.37c-.4-.4-.92-.59-1.43-.59-.52 0-1.04.2-1.43.59L10.3 9.45l-7.72 7.72c-.78.78-.78 2.05 0 2.83L4 21.41c.39.39.9.59 1.41.59.51 0 1.02-.2 1.41-.59l7.78-7.78 2.81-2.81c.8-.78.8-2.07 0-2.86zM5.41 20L4 18.59l7.72-7.72 1.47 1.35L5.41 20z\"/>\n",
              "  </svg>\n",
              "      </button>\n",
              "      \n",
              "  <style>\n",
              "    .colab-df-container {\n",
              "      display:flex;\n",
              "      flex-wrap:wrap;\n",
              "      gap: 12px;\n",
              "    }\n",
              "\n",
              "    .colab-df-convert {\n",
              "      background-color: #E8F0FE;\n",
              "      border: none;\n",
              "      border-radius: 50%;\n",
              "      cursor: pointer;\n",
              "      display: none;\n",
              "      fill: #1967D2;\n",
              "      height: 32px;\n",
              "      padding: 0 0 0 0;\n",
              "      width: 32px;\n",
              "    }\n",
              "\n",
              "    .colab-df-convert:hover {\n",
              "      background-color: #E2EBFA;\n",
              "      box-shadow: 0px 1px 2px rgba(60, 64, 67, 0.3), 0px 1px 3px 1px rgba(60, 64, 67, 0.15);\n",
              "      fill: #174EA6;\n",
              "    }\n",
              "\n",
              "    [theme=dark] .colab-df-convert {\n",
              "      background-color: #3B4455;\n",
              "      fill: #D2E3FC;\n",
              "    }\n",
              "\n",
              "    [theme=dark] .colab-df-convert:hover {\n",
              "      background-color: #434B5C;\n",
              "      box-shadow: 0px 1px 3px 1px rgba(0, 0, 0, 0.15);\n",
              "      filter: drop-shadow(0px 1px 2px rgba(0, 0, 0, 0.3));\n",
              "      fill: #FFFFFF;\n",
              "    }\n",
              "  </style>\n",
              "\n",
              "      <script>\n",
              "        const buttonEl =\n",
              "          document.querySelector('#df-cf773d42-fad9-4ba0-99bc-e84e844613e5 button.colab-df-convert');\n",
              "        buttonEl.style.display =\n",
              "          google.colab.kernel.accessAllowed ? 'block' : 'none';\n",
              "\n",
              "        async function convertToInteractive(key) {\n",
              "          const element = document.querySelector('#df-cf773d42-fad9-4ba0-99bc-e84e844613e5');\n",
              "          const dataTable =\n",
              "            await google.colab.kernel.invokeFunction('convertToInteractive',\n",
              "                                                     [key], {});\n",
              "          if (!dataTable) return;\n",
              "\n",
              "          const docLinkHtml = 'Like what you see? Visit the ' +\n",
              "            '<a target=\"_blank\" href=https://colab.research.google.com/notebooks/data_table.ipynb>data table notebook</a>'\n",
              "            + ' to learn more about interactive tables.';\n",
              "          element.innerHTML = '';\n",
              "          dataTable['output_type'] = 'display_data';\n",
              "          await google.colab.output.renderOutput(dataTable, element);\n",
              "          const docLink = document.createElement('div');\n",
              "          docLink.innerHTML = docLinkHtml;\n",
              "          element.appendChild(docLink);\n",
              "        }\n",
              "      </script>\n",
              "    </div>\n",
              "  </div>\n",
              "  "
            ],
            "text/plain": [
              "           data  salario_minimo     inpc         real\n",
              "0    2000-01-01             136  1598.24   538.692712\n",
              "1    2000-02-01             136  1599.04   538.423204\n",
              "2    2000-03-01             136  1601.12   537.723743\n",
              "3    2000-04-01             151  1602.56   596.495039\n",
              "4    2000-05-01             151  1601.76   596.792959\n",
              "..          ...             ...      ...          ...\n",
              "259  2021-08-01            1100  6087.84  1143.862027\n",
              "260  2021-09-01            1100  6160.89  1130.299194\n",
              "261  2021-10-01            1100  6232.36  1117.337413\n",
              "262  2021-11-01            1100  6284.71  1108.030283\n",
              "263  2021-12-01            1100  6330.59  1100.000000\n",
              "\n",
              "[264 rows x 4 columns]"
            ]
          },
          "execution_count": 16,
          "metadata": {},
          "output_type": "execute_result"
        }
      ],
      "source": [
        "# Agora vamos implementar o deflacionamento do salário mínimo pelo INPC\n",
        "# Data-base: dezembro de 2021\n",
        "\n",
        "# A expressão \"dados[\"real\"] = \" indica que estamos criando uma coluna com nome\n",
        "# \"real\" no objeto \"dados\" que é um DataFrame\n",
        "\n",
        "# Após o igual (=) definimos a série de valores que será armazenada na nova coluna\n",
        "# A série é determinada pela expressão matemática de deflacionamento de valores\n",
        "\n",
        "# Os parênteses não são necessários, mas podem ser colocados para organização\n",
        "\n",
        "# A expressão dados[\"inpc\"] acessa os valores dessa coluna na tabela e \".iloc[-1]\"\n",
        "# serve para acessar apenas o último valor dessa coluna, com base no índice da linha\n",
        "# (iloc), formando o numerador da expressão\n",
        "\n",
        "# O denominador da expressão é definido após o operador de divisão: / dados[\"inpc\"]\n",
        "\n",
        "# Por fim, multiplicamos o resultado do fator de deflacionamento pela coluna de \n",
        "# valores nominais com: * dados[\"salario_minimo\"]\n",
        "\n",
        "dados[\"real\"] = (dados[\"inpc\"].iloc[-1] / dados[\"inpc\"]) * dados[\"salario_minimo\"]\n",
        "dados"
      ]
    },
    {
      "cell_type": "markdown",
      "metadata": {
        "id": "7KJl_8--XrRu"
      },
      "source": [
        "# Visualizando dados\n",
        "Vamos gerar um gráfico de linha com os resultados?"
      ]
    },
    {
      "cell_type": "code",
      "execution_count": 17,
      "metadata": {
        "colab": {
          "base_uri": "https://localhost:8080/",
          "height": 339
        },
        "id": "3-rcM8MVEAsK",
        "outputId": "7d734913-f7c5-49e5-d7e0-e17fbc7df444"
      },
      "outputs": [
        {
          "data": {
            "text/plain": [
              "Text(0.99, -0.02, 'Dados: IBGE/IPEADATA | Elaboração: analisemacro.com.br')"
            ]
          },
          "execution_count": 17,
          "metadata": {},
          "output_type": "execute_result"
        },
        {
          "data": {
            "image/png": "[encoded data removed]",
            "text/plain": [
              "<Figure size 432x288 with 1 Axes>"
            ]
          },
          "metadata": {
            "needs_background": "light"
          },
          "output_type": "display_data"
        }
      ],
      "source": [
        "from matplotlib import pyplot as plt\n",
        "\n",
        "axes = plt.gca() # cria um objeto de eixos\n",
        "\n",
        "dados.plot(x = \"data\", y = [\"salario_minimo\", \"real\"], kind = \"line\", ax = axes) # cria um gráfico de linha definindo os eixos e passando o objeto de eixos\n",
        "plt.title(\"Valores deflacionados pelo INPC a preços de dez/2021\") # define texto de título no gráfico criado\n",
        "plt.suptitle(\"Salário mínimo - Brasil\") # define texto de subtítulo\n",
        "plt.xlabel(\"Data\")  # define texto no eixo X\n",
        "plt.ylabel(\"R$\")  # define texto no eixo Y\n",
        "plt.legend([\"Nominal\", \"Real\"])  # define nome das séries na legenda\n",
        "plt.figtext(   # adiciona texto de fonte (caption) nas coordenadas x e y\n",
        "    x = 0.99, \n",
        "    y = -0.02,\n",
        "    s = \"Dados: IBGE/IPEADATA | Elaboração: analisemacro.com.br\", \n",
        "    horizontalalignment = \"right\"\n",
        "    )"
      ]
    }
  ],
  "metadata": {
    "colab": {
      "collapsed_sections": [],
      "name": "macro02.ipynb",
      "provenance": []
    },
    "kernelspec": {
      "display_name": "Python 3",
      "name": "python3"
    },
    "language_info": {
      "codemirror_mode": {
        "name": "ipython",
        "version": 3
      },
      "file_extension": ".py",
      "mimetype": "text/x-python",
      "name": "python",
      "nbconvert_exporter": "python",
      "pygments_lexer": "ipython3",
      "version": "3.10.13"
    }
  },
  "nbformat": 4,
  "nbformat_minor": 0
}
